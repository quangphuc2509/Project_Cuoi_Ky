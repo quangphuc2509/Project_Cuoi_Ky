{
  "nbformat": 4,
  "nbformat_minor": 0,
  "metadata": {
    "colab": {
      "provenance": [],
      "gpuType": "T4",
      "mount_file_id": "1XLgIRgjZsfWNjqGpHJNx_N_-aofdaSzR",
      "authorship_tag": "ABX9TyPKGH9L7GLbNyBqsAITF1YY",
      "include_colab_link": true
    },
    "kernelspec": {
      "name": "python3",
      "display_name": "Python 3"
    },
    "language_info": {
      "name": "python"
    },
    "accelerator": "GPU",
    "gpuClass": "standard"
  },
  "cells": [
    {
      "cell_type": "markdown",
      "metadata": {
        "id": "view-in-github",
        "colab_type": "text"
      },
      "source": [
        "<a href=\"https://colab.research.google.com/github/quangphuc2509/AI-Homework/blob/main/gender.ipynb\" target=\"_parent\"><img src=\"https://colab.research.google.com/assets/colab-badge.svg\" alt=\"Open In Colab\"/></a>"
      ]
    },
    {
      "cell_type": "code",
      "execution_count": 1,
      "metadata": {
        "id": "CfUStDcoPDgb"
      },
      "outputs": [],
      "source": [
        "import tensorflow as tf\n",
        "from tensorflow import keras\n",
        "import numpy as np\n",
        "import os\n",
        "from PIL import Image\n",
        "from keras import layers, models\n",
        "from keras.layers import Dense, Dropout, Flatten, Conv2D, MaxPooling2D, Rescaling\n",
        "from keras.models import Sequential, Model\n",
        "from keras.callbacks import EarlyStopping, ModelCheckpoint, ReduceLROnPlateau, Callback\n",
        "from IPython.display import clear_output\n",
        "import pathlib"
      ]
    },
    {
      "cell_type": "code",
      "source": [
        "dataset_url = r\"/content/drive/MyDrive/FinalProject/Gendertrain2\"\n",
        "data_dir = pathlib.Path(dataset_url)\n",
        "\n",
        "batch_size = 32\n",
        "img_height = 100\n",
        "img_width = 100"
      ],
      "metadata": {
        "id": "WfprqzDBPZ2I"
      },
      "execution_count": 2,
      "outputs": []
    },
    {
      "cell_type": "code",
      "source": [
        "# Tạo file train với tỉ lệ 80% file data\n",
        "train_ds = tf.keras.utils.image_dataset_from_directory(\n",
        "  dataset_url,\n",
        "  validation_split = 0.2,\n",
        "  subset = \"training\",\n",
        "  seed = 125,\n",
        "  image_size = (img_height, img_width),\n",
        "  batch_size = batch_size,\n",
        "  color_mode= \"rgb\")\n",
        "\n",
        "# Tạo file test với tỉ lệ 20% file data\n",
        "val_ds = tf.keras.utils.image_dataset_from_directory(\n",
        "  dataset_url,\n",
        "  validation_split = 0.2,\n",
        "  subset = \"validation\",\n",
        "  seed = 125,\n",
        "  image_size = (img_height, img_width),\n",
        "  batch_size = batch_size,\n",
        "  color_mode= \"rgb\")"
      ],
      "metadata": {
        "colab": {
          "base_uri": "https://localhost:8080/"
        },
        "id": "L5Zl97UIPkzZ",
        "outputId": "86dee9e8-7d1c-406e-d625-5b582eb5dce7"
      },
      "execution_count": 3,
      "outputs": [
        {
          "output_type": "stream",
          "name": "stdout",
          "text": [
            "Found 2004 files belonging to 2 classes.\n",
            "Using 1604 files for training.\n",
            "Found 2004 files belonging to 2 classes.\n",
            "Using 400 files for validation.\n"
          ]
        }
      ]
    },
    {
      "cell_type": "code",
      "source": [
        "# lấy tên các thư mục để làm nhãn cho dữ liệu train\n",
        "class_names = train_ds.class_names\n",
        "print(class_names)"
      ],
      "metadata": {
        "colab": {
          "base_uri": "https://localhost:8080/"
        },
        "id": "kayxFxpfPllH",
        "outputId": "2646eace-5c82-4d11-9485-8410e728fafe"
      },
      "execution_count": 4,
      "outputs": [
        {
          "output_type": "stream",
          "name": "stdout",
          "text": [
            "['man', 'woman']\n"
          ]
        }
      ]
    },
    {
      "cell_type": "code",
      "source": [
        "# kiểm tra kiểu dữ liệu trong dữ liệu train\n",
        "for image_batch, labels_batch in train_ds:\n",
        "  print(image_batch.shape)\n",
        "  print(labels_batch.shape)\n",
        "  break"
      ],
      "metadata": {
        "colab": {
          "base_uri": "https://localhost:8080/"
        },
        "id": "gVlLi23HPrjB",
        "outputId": "277454d5-5bc2-4dae-9e53-cba6e6939c79"
      },
      "execution_count": 5,
      "outputs": [
        {
          "output_type": "stream",
          "name": "stdout",
          "text": [
            "(32, 100, 100, 3)\n",
            "(32,)\n"
          ]
        }
      ]
    },
    {
      "cell_type": "code",
      "source": [
        "num_classes = len(class_names)\n",
        "# Tạo mô hình Sequential\n",
        "model = Sequential()\n",
        "# Chuẩn hóa giá trị pixel từ 0-255 về 0-1\n",
        "model.add(Rescaling(1./255))\n",
        "\n",
        "# Tạo lớp Convolution với bộ lọc 3x3, activation là hàm phi tuyến\n",
        "model.add(Conv2D(64, kernel_size = 3, activation = \"relu\", \n",
        "                 input_shape = (100, 100, 3), padding = \"same\"))\n",
        "model.add(Conv2D(64, kernel_size = 3, activation = \"relu\", padding = \"same\"))\n",
        "model.add(MaxPooling2D((2, 2), padding = \"same\"))\n",
        "\n",
        "model.add(Conv2D(128, kernel_size = 3, activation = \"relu\", padding = \"same\"))\n",
        "model.add(Conv2D(128, kernel_size = 3, activation = \"relu\", padding = \"same\"))\n",
        "model.add(MaxPooling2D((2, 2), padding = \"same\"))\n",
        "\n",
        "model.add(Conv2D(256, kernel_size = 3, activation = \"relu\", padding = \"same\"))\n",
        "model.add(Conv2D(256, kernel_size = 3, activation = \"relu\", padding = \"same\"))\n",
        "model.add(MaxPooling2D((2, 2), padding = \"same\"))\n",
        "\n",
        "model.add(Conv2D(512, kernel_size = 3, activation = \"relu\", padding = \"same\"))\n",
        "model.add(Conv2D(512, kernel_size = 3, activation = \"relu\", padding = \"same\"))\n",
        "model.add(MaxPooling2D((2, 2), padding = \"same\"))\n",
        "\n",
        "\n",
        "# Chuyển đổi đầu ra các lớp convolution thành mảng 1 chiều\n",
        "model.add(Flatten())\n",
        "\n",
        "# Tạo lớp ẩn\n",
        "model.add(Dense(1000, activation = 'relu'))\n",
        "model.add(Dense(num_classes, activation = 'softmax'))\n",
        "\n",
        "# Biên dịch Mô hình, ở đây sử dụng SparseCategoricalCrossentropy để tính toán mất mát của mô hình\n",
        "# dựa trên xác suất dự đoán của mô hình và chỉ số của lớp thực sự của dữ liệu.\n",
        "model.compile(optimizer='adam',\n",
        "              loss=tf.keras.losses.SparseCategoricalCrossentropy(),\n",
        "              metrics=['accuracy'])"
      ],
      "metadata": {
        "id": "1kSp0tBsPuAw"
      },
      "execution_count": 7,
      "outputs": []
    },
    {
      "cell_type": "code",
      "source": [
        "# Tạo hàm callback, Trong đó\n",
        "# class chứa câu lệnh được thực hiện khi két thúc 1 epoch\n",
        "class DisplayCallback(Callback):\n",
        "  def on_epoch_end(self, epoch, logs=None):\n",
        "    clear_output(wait=True) # Xóa nội dung hiện tại trên console\n",
        "\n",
        "# EarlyStopping: dừng quá trình train sớm nếu mô hình không cải thiện độ chính xác \n",
        "#               trên tập validation trong một số epoch liên tiếp (patience)\n",
        "# ReduceLROnPlateau: giảm learning rate nếu độ chính xác trên tập validation \n",
        "#                 không cải thiện trong một số epoch liên tiếp\n",
        "# ModelCheckpoint: lưu trữ các check point tốt nhất sau mỗi epoch\n",
        "callbacks = [DisplayCallback(), \n",
        "            EarlyStopping(patience=10, verbose=1),                  \n",
        "            ReduceLROnPlateau(patience=5, verbose=1),\n",
        "            ModelCheckpoint('/content/drive/MyDrive/FinalProject/genderdetect_final_3.h5', \n",
        "                            verbose=1, save_best_only=True)]"
      ],
      "metadata": {
        "id": "kSQP9sWGP76n"
      },
      "execution_count": 8,
      "outputs": []
    },
    {
      "cell_type": "code",
      "source": [
        "# train mô hình \n",
        "history = model.fit(train_ds,\n",
        "                    validation_data = val_ds,\n",
        "                    epochs = 100,\n",
        "                    callbacks = callbacks)"
      ],
      "metadata": {
        "colab": {
          "base_uri": "https://localhost:8080/"
        },
        "id": "h-8ZWRQUQEuQ",
        "outputId": "e7a7e927-a749-480e-fd7f-f12a426212c3"
      },
      "execution_count": 9,
      "outputs": [
        {
          "output_type": "stream",
          "name": "stdout",
          "text": [
            "\n",
            "Epoch 40: ReduceLROnPlateau reducing learning rate to 1.0000000656873453e-06.\n",
            "\n",
            "Epoch 40: val_loss did not improve from 0.23733\n",
            "51/51 [==============================] - 5s 93ms/step - loss: 0.0467 - accuracy: 0.9882 - val_loss: 0.3042 - val_accuracy: 0.8950 - lr: 1.0000e-05\n",
            "Epoch 40: early stopping\n"
          ]
        }
      ]
    },
    {
      "cell_type": "code",
      "source": [
        "import matplotlib.pyplot as plt\n",
        "plt.plot(history.history[\"accuracy\"])\n",
        "plt.plot(history.history[\"loss\"])\n",
        "plt.title(\"Accuray of model\")\n",
        "\n",
        "plt.ylabel(\"Accuracy\")\n",
        "plt.xlabel(\"Epoch\")\n",
        "\n",
        "plt.legend([\"Accuracy\", \"Loss\"], loc = \"lower right\")"
      ],
      "metadata": {
        "colab": {
          "base_uri": "https://localhost:8080/",
          "height": 489
        },
        "id": "9nKldmyaVOtL",
        "outputId": "c42edcd1-251f-4757-ba6d-9a54ac22f9e8"
      },
      "execution_count": 10,
      "outputs": [
        {
          "output_type": "execute_result",
          "data": {
            "text/plain": [
              "<matplotlib.legend.Legend at 0x7f1bf4422500>"
            ]
          },
          "metadata": {},
          "execution_count": 10
        },
        {
          "output_type": "display_data",
          "data": {
            "text/plain": [
              "<Figure size 640x480 with 1 Axes>"
            ],
            "image/png": "[encoded data removed]"
          },
          "metadata": {}
        }
      ]
    },
    {
      "cell_type": "code",
      "source": [
        "model.summary()"
      ],
      "metadata": {
        "colab": {
          "base_uri": "https://localhost:8080/"
        },
        "id": "MIRN2ATCVPLm",
        "outputId": "0f9aab67-d808-4279-dff0-fa2038c17ea1"
      },
      "execution_count": 11,
      "outputs": [
        {
          "output_type": "stream",
          "name": "stdout",
          "text": [
            "Model: \"sequential_1\"\n",
            "_________________________________________________________________\n",
            " Layer (type)                Output Shape              Param #   \n",
            "=================================================================\n",
            " rescaling_1 (Rescaling)     (None, 100, 100, 3)       0         \n",
            "                                                                 \n",
            " conv2d_8 (Conv2D)           (None, 100, 100, 64)      1792      \n",
            "                                                                 \n",
            " conv2d_9 (Conv2D)           (None, 100, 100, 64)      36928     \n",
            "                                                                 \n",
            " max_pooling2d_4 (MaxPooling  (None, 50, 50, 64)       0         \n",
            " 2D)                                                             \n",
            "                                                                 \n",
            " conv2d_10 (Conv2D)          (None, 50, 50, 128)       73856     \n",
            "                                                                 \n",
            " conv2d_11 (Conv2D)          (None, 50, 50, 128)       147584    \n",
            "                                                                 \n",
            " max_pooling2d_5 (MaxPooling  (None, 25, 25, 128)      0         \n",
            " 2D)                                                             \n",
            "                                                                 \n",
            " conv2d_12 (Conv2D)          (None, 25, 25, 256)       295168    \n",
            "                                                                 \n",
            " conv2d_13 (Conv2D)          (None, 25, 25, 256)       590080    \n",
            "                                                                 \n",
            " max_pooling2d_6 (MaxPooling  (None, 13, 13, 256)      0         \n",
            " 2D)                                                             \n",
            "                                                                 \n",
            " conv2d_14 (Conv2D)          (None, 13, 13, 512)       1180160   \n",
            "                                                                 \n",
            " conv2d_15 (Conv2D)          (None, 13, 13, 512)       2359808   \n",
            "                                                                 \n",
            " max_pooling2d_7 (MaxPooling  (None, 7, 7, 512)        0         \n",
            " 2D)                                                             \n",
            "                                                                 \n",
            " flatten_1 (Flatten)         (None, 25088)             0         \n",
            "                                                                 \n",
            " dense_3 (Dense)             (None, 1000)              25089000  \n",
            "                                                                 \n",
            " dense_4 (Dense)             (None, 2)                 2002      \n",
            "                                                                 \n",
            "=================================================================\n",
            "Total params: 29,776,378\n",
            "Trainable params: 29,776,378\n",
            "Non-trainable params: 0\n",
            "_________________________________________________________________\n"
          ]
        }
      ]
    },
    {
      "cell_type": "code",
      "source": [],
      "metadata": {
        "id": "t0AKymIGVTrt"
      },
      "execution_count": null,
      "outputs": []
    }
  ]
}