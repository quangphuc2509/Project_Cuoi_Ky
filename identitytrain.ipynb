{
  "cells": [
    {
      "cell_type": "markdown",
      "metadata": {
        "id": "view-in-github",
        "colab_type": "text"
      },
      "source": [
        "<a href=\"https://colab.research.google.com/github/quangphuc2509/AI-Homework/blob/main/identitytrain.ipynb\" target=\"_parent\"><img src=\"https://colab.research.google.com/assets/colab-badge.svg\" alt=\"Open In Colab\"/></a>"
      ]
    },
    {
      "cell_type": "code",
      "source": [
        "from google.colab import drive\n",
        "drive.mount('/content/drive')"
      ],
      "metadata": {
        "colab": {
          "base_uri": "https://localhost:8080/"
        },
        "id": "x1bSflWHaVJK",
        "outputId": "d1638078-ad62-4752-8730-4490e426065c"
      },
      "execution_count": null,
      "outputs": [
        {
          "output_type": "stream",
          "name": "stdout",
          "text": [
            "Drive already mounted at /content/drive; to attempt to forcibly remount, call drive.mount(\"/content/drive\", force_remount=True).\n"
          ]
        }
      ]
    },
    {
      "cell_type": "code",
      "execution_count": null,
      "metadata": {
        "id": "xkUOhmPxZ0av"
      },
      "outputs": [],
      "source": [
        "import tensorflow as tf\n",
        "from tensorflow import keras\n",
        "import numpy as np\n",
        "import os\n",
        "from PIL import Image\n",
        "from keras import layers, models\n",
        "from keras.layers import Dense, Dropout, Flatten, Conv2D, MaxPooling2D, Rescaling\n",
        "from keras.models import Sequential, Model\n",
        "from keras.callbacks import EarlyStopping, ModelCheckpoint, ReduceLROnPlateau, Callback\n",
        "from IPython.display import clear_output\n",
        "import pathlib"
      ]
    },
    {
      "cell_type": "code",
      "execution_count": null,
      "metadata": {
        "id": "BN5iQh9EZ0a0"
      },
      "outputs": [],
      "source": [
        "dataset_url = r\"/content/drive/MyDrive/FinalTermProject/train3\"\n",
        "data_dir = pathlib.Path(dataset_url)\n",
        "\n",
        "batch_size = 32\n",
        "img_height = 224\n",
        "img_width = 224"
      ]
    },
    {
      "cell_type": "code",
      "execution_count": null,
      "metadata": {
        "colab": {
          "base_uri": "https://localhost:8080/"
        },
        "id": "C0ZIFNvLZ0a2",
        "outputId": "aa3369cd-3c9a-4fd4-d628-8219adad320a"
      },
      "outputs": [
        {
          "output_type": "stream",
          "name": "stdout",
          "text": [
            "Found 1570 files belonging to 6 classes.\n",
            "Using 1256 files for training.\n",
            "Found 1570 files belonging to 6 classes.\n",
            "Using 314 files for validation.\n"
          ]
        }
      ],
      "source": [
        "# Tạo file train với tỉ lệ 80% file data\n",
        "train_ds = tf.keras.utils.image_dataset_from_directory(\n",
        "  dataset_url,\n",
        "  validation_split = 0.2,\n",
        "  subset = \"training\",\n",
        "  seed = 125,\n",
        "  image_size = (img_height, img_width),\n",
        "  batch_size = batch_size,\n",
        "  color_mode= \"rgb\")\n",
        "\n",
        "# Tạo file test với tỉ lệ 20% file data\n",
        "val_ds = tf.keras.utils.image_dataset_from_directory(\n",
        "  dataset_url,\n",
        "  validation_split = 0.2,\n",
        "  subset = \"validation\",\n",
        "  seed = 125,\n",
        "  image_size = (img_height, img_width),\n",
        "  batch_size = batch_size,\n",
        "  color_mode= \"rgb\")"
      ]
    },
    {
      "cell_type": "code",
      "execution_count": null,
      "metadata": {
        "colab": {
          "base_uri": "https://localhost:8080/"
        },
        "id": "QY-lwmhFZ0a4",
        "outputId": "43a82533-4b5e-4e70-af96-ac65b3d24e72"
      },
      "outputs": [
        {
          "output_type": "stream",
          "name": "stdout",
          "text": [
            "['Khuong', 'Phuc', 'Thanh', 'Thao', 'TuanKiet', 'VanTrung']\n"
          ]
        }
      ],
      "source": [
        "# lấy tên các thư mục để làm nhãn cho dữ liệu train\n",
        "class_names = train_ds.class_names\n",
        "print(class_names)"
      ]
    },
    {
      "cell_type": "code",
      "execution_count": null,
      "metadata": {
        "colab": {
          "base_uri": "https://localhost:8080/"
        },
        "id": "bxvHSaZfZ0a5",
        "outputId": "61884fb9-2f7d-489f-e675-1c7d31fc1bc1"
      },
      "outputs": [
        {
          "output_type": "stream",
          "name": "stdout",
          "text": [
            "(32, 224, 224, 3)\n",
            "(32,)\n"
          ]
        }
      ],
      "source": [
        "# kiểm tra kiểu dữ liệu trong dữ liệu train\n",
        "for image_batch, labels_batch in train_ds:\n",
        "  print(image_batch.shape)\n",
        "  print(labels_batch.shape)\n",
        "  break"
      ]
    },
    {
      "cell_type": "code",
      "execution_count": null,
      "metadata": {
        "id": "XOxNGk9LZ0a6"
      },
      "outputs": [],
      "source": [
        "num_classes = len(class_names)\n",
        "# Tạo mô hình Sequential\n",
        "model = Sequential()\n",
        "# Chuẩn hóa giá trị pixel từ 0-255 về 0-1\n",
        "model.add(Rescaling(1./255))\n",
        "\n",
        "# Tạo lớp Convolution với bộ lọc 3x3, activation là hàm phi tuyến\n",
        "model.add(Conv2D(64, kernel_size = 3, activation = \"relu\", \n",
        "                 input_shape = (224, 224, 3), padding = \"same\"))\n",
        "model.add(Conv2D(64, kernel_size = 3, activation = \"relu\", padding = \"same\"))\n",
        "model.add(MaxPooling2D((2, 2), padding = \"same\"))\n",
        "\n",
        "model.add(Conv2D(128, kernel_size = 3, activation = \"relu\", padding = \"same\"))\n",
        "model.add(Conv2D(128, kernel_size = 3, activation = \"relu\", padding = \"same\"))\n",
        "model.add(MaxPooling2D((2, 2), padding = \"same\"))\n",
        "\n",
        "model.add(Conv2D(256, kernel_size = 3, activation = \"relu\", padding = \"same\"))\n",
        "model.add(Conv2D(256, kernel_size = 3, activation = \"relu\", padding = \"same\"))\n",
        "model.add(Conv2D(256, kernel_size = 3, activation = \"relu\", padding = \"same\"))\n",
        "model.add(MaxPooling2D((2, 2), padding = \"same\"))\n",
        "\n",
        "model.add(Conv2D(512, kernel_size = 3, activation = \"relu\", padding = \"same\"))\n",
        "model.add(Conv2D(512, kernel_size = 3, activation = \"relu\", padding = \"same\"))\n",
        "model.add(Conv2D(512, kernel_size = 3, activation = \"relu\", padding = \"same\"))\n",
        "model.add(MaxPooling2D((2, 2), padding = \"same\"))\n",
        "\n",
        "\n",
        "# Chuyển đổi đầu ra các lớp convolution thành mảng 1 chiều\n",
        "model.add(Flatten())\n",
        "\n",
        "# Tạo lớp ẩn\n",
        "model.add(Dense(512, activation = 'relu'))\n",
        "model.add(Dense(128, activation = 'relu'))\n",
        "model.add(Dense(num_classes, activation = 'softmax'))\n"
      ]
    },
    {
      "cell_type": "code",
      "execution_count": null,
      "metadata": {
        "id": "uqF2VHCuZ0a7"
      },
      "outputs": [],
      "source": [
        "# Biên dịch Mô hình, ở đây sử dụng SparseCategoricalCrossentropy để tính toán mất mát của mô hình\n",
        "# dựa trên xác suất dự đoán của mô hình và chỉ số của lớp thực sự của dữ liệu.\n",
        "model.compile(optimizer='adam',\n",
        "              loss=tf.keras.losses.SparseCategoricalCrossentropy(),\n",
        "              metrics=['accuracy'])"
      ]
    },
    {
      "cell_type": "code",
      "execution_count": null,
      "metadata": {
        "id": "uZIDcDqYZ0a9"
      },
      "outputs": [],
      "source": [
        "# Tạo hàm callback, Trong đó\n",
        "# class chứa câu lệnh được thực hiện khi két thúc 1 epoch\n",
        "class DisplayCallback(Callback):\n",
        "  def on_epoch_end(self, epoch, logs=None):\n",
        "    clear_output(wait=True) # Xóa nội dung hiện tại trên console\n",
        "\n",
        "# EarlyStopping: dừng quá trình train sớm nếu mô hình không cải thiện độ chính xác \n",
        "#               trên tập validation trong một số epoch liên tiếp (patience)\n",
        "# ReduceLROnPlateau: giảm learning rate nếu độ chính xác trên tập validation \n",
        "#                 không cải thiện trong một số epoch liên tiếp\n",
        "# ModelCheckpoint: lưu trữ các check point tốt nhất sau mỗi epoch\n",
        "callbacks = [DisplayCallback(), \n",
        "            EarlyStopping(patience=11, verbose=1),                  \n",
        "            ReduceLROnPlateau(patience=5, verbose=1),\n",
        "            ModelCheckpoint('/content/drive/MyDrive/FinalTermProject/facedetect_final_3.h5', \n",
        "                            verbose=1, save_best_only=True)]"
      ]
    },
    {
      "cell_type": "code",
      "execution_count": null,
      "metadata": {
        "colab": {
          "base_uri": "https://localhost:8080/"
        },
        "id": "FfyJiv3YZ0a-",
        "outputId": "859b17a6-03e0-4021-dc9a-09475c42d029"
      },
      "outputs": [
        {
          "output_type": "stream",
          "name": "stdout",
          "text": [
            "\n",
            "Epoch 26: val_loss did not improve from 0.00000\n",
            "40/40 [==============================] - 17s 411ms/step - loss: 6.5203e-08 - accuracy: 1.0000 - val_loss: 4.1761e-09 - val_accuracy: 1.0000 - lr: 1.0000e-05\n",
            "Epoch 26: early stopping\n"
          ]
        }
      ],
      "source": [
        "# train mô hình \n",
        "history = model.fit(train_ds,\n",
        "                    validation_data = val_ds,\n",
        "                    epochs = 40,\n",
        "                    callbacks= callbacks)"
      ]
    },
    {
      "cell_type": "code",
      "execution_count": null,
      "metadata": {
        "colab": {
          "base_uri": "https://localhost:8080/"
        },
        "id": "hZ9CSpOpZ0a_",
        "outputId": "29678922-a8a5-41a4-a092-4b6e5e37bb1c"
      },
      "outputs": [
        {
          "output_type": "stream",
          "name": "stdout",
          "text": [
            "Model: \"sequential\"\n",
            "_________________________________________________________________\n",
            " Layer (type)                Output Shape              Param #   \n",
            "=================================================================\n",
            " rescaling (Rescaling)       (None, 224, 224, 3)       0         \n",
            "                                                                 \n",
            " conv2d (Conv2D)             (None, 224, 224, 64)      1792      \n",
            "                                                                 \n",
            " conv2d_1 (Conv2D)           (None, 224, 224, 64)      36928     \n",
            "                                                                 \n",
            " max_pooling2d (MaxPooling2D  (None, 112, 112, 64)     0         \n",
            " )                                                               \n",
            "                                                                 \n",
            " conv2d_2 (Conv2D)           (None, 112, 112, 128)     73856     \n",
            "                                                                 \n",
            " conv2d_3 (Conv2D)           (None, 112, 112, 128)     147584    \n",
            "                                                                 \n",
            " max_pooling2d_1 (MaxPooling  (None, 56, 56, 128)      0         \n",
            " 2D)                                                             \n",
            "                                                                 \n",
            " conv2d_4 (Conv2D)           (None, 56, 56, 256)       295168    \n",
            "                                                                 \n",
            " conv2d_5 (Conv2D)           (None, 56, 56, 256)       590080    \n",
            "                                                                 \n",
            " conv2d_6 (Conv2D)           (None, 56, 56, 256)       590080    \n",
            "                                                                 \n",
            " max_pooling2d_2 (MaxPooling  (None, 28, 28, 256)      0         \n",
            " 2D)                                                             \n",
            "                                                                 \n",
            " conv2d_7 (Conv2D)           (None, 28, 28, 512)       1180160   \n",
            "                                                                 \n",
            " conv2d_8 (Conv2D)           (None, 28, 28, 512)       2359808   \n",
            "                                                                 \n",
            " conv2d_9 (Conv2D)           (None, 28, 28, 512)       2359808   \n",
            "                                                                 \n",
            " max_pooling2d_3 (MaxPooling  (None, 14, 14, 512)      0         \n",
            " 2D)                                                             \n",
            "                                                                 \n",
            " flatten (Flatten)           (None, 100352)            0         \n",
            "                                                                 \n",
            " dense (Dense)               (None, 512)               51380736  \n",
            "                                                                 \n",
            " dense_1 (Dense)             (None, 128)               65664     \n",
            "                                                                 \n",
            " dense_2 (Dense)             (None, 6)                 774       \n",
            "                                                                 \n",
            "=================================================================\n",
            "Total params: 59,082,438\n",
            "Trainable params: 59,082,438\n",
            "Non-trainable params: 0\n",
            "_________________________________________________________________\n"
          ]
        }
      ],
      "source": [
        "model.summary()"
      ]
    },
    {
      "cell_type": "code",
      "source": [
        "model.save('/content/drive/MyDrive/FinalTermProject/facedetect_final_2.h5')"
      ],
      "metadata": {
        "id": "axi3Zo5HhKLH"
      },
      "execution_count": null,
      "outputs": []
    },
    {
      "cell_type": "code",
      "source": [
        "plt.plot(history.history[\"accuracy\"])\n",
        "plt.plot(history.history[\"loss\"])\n",
        "plt.title(\"Accuray of model\")\n",
        "\n",
        "plt.ylabel(\"Accuracy\")\n",
        "plt.xlabel(\"Epoch\")\n",
        "\n",
        "plt.legend([\"Accuracy\", \"Loss\"], loc = \"lower right\")"
      ],
      "metadata": {
        "id": "vQmoCngjEUMs"
      },
      "execution_count": null,
      "outputs": []
    }
  ],
  "metadata": {
    "kernelspec": {
      "display_name": "Python 3",
      "language": "python",
      "name": "python3"
    },
    "language_info": {
      "codemirror_mode": {
        "name": "ipython",
        "version": 3
      },
      "file_extension": ".py",
      "mimetype": "text/x-python",
      "name": "python",
      "nbconvert_exporter": "python",
      "pygments_lexer": "ipython3",
      "version": "3.9.6"
    },
    "orig_nbformat": 4,
    "colab": {
      "provenance": [],
      "gpuType": "T4",
      "include_colab_link": true
    },
    "accelerator": "GPU",
    "gpuClass": "standard"
  },
  "nbformat": 4,
  "nbformat_minor": 0
}